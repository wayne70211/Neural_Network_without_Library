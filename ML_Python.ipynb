{
 "cells": [
  {
   "cell_type": "code",
   "execution_count": 1,
   "metadata": {},
   "outputs": [],
   "source": [
    "import numpy as np\n",
    "import matplotlib.pyplot as plt\n",
    "\n",
    "def Sigmoid(x):\n",
    "    return 1/(1+np.exp(-x))\n",
    "\n",
    "def diffSigmoid(x):\n",
    "    f = Sigmoid(x)\n",
    "    return f*(1-f)\n",
    "\n",
    "def ReLU(x):\n",
    "    return np.maximum(0.0,x)\n",
    "\n",
    "def diffReLU(x):\n",
    "    return np.where(x <= 0, 0.0, 1.0)\n"
   ]
  },
  {
   "cell_type": "code",
   "execution_count": 2,
   "metadata": {},
   "outputs": [],
   "source": [
    "def SSE(x,y):\n",
    "    a = x - y\n",
    "    return sum(a*a)\n",
    "\n",
    "def MSE(x,y):\n",
    "    a = x - y\n",
    "    return (a*a).mean()\n",
    "\n",
    "def diffMSE(x,y):\n",
    "    a = x - y\n",
    "    return -2*(a)\n",
    "\n",
    "def ForwardPropagation(weight,bias,input_layer,activation):\n",
    "    if activation == \"Sigmoid\" :\n",
    "        output_layer = Sigmoid(np.dot(weight,input_layer)+bias)\n",
    "    if activation == \"ReLU\" :\n",
    "        output_layer = ReLU(np.dot(weight,input_layer)+bias)\n",
    "    return output_layer\n",
    "\n",
    "def BackPropagation(input_layer,output_layer,activation):\n",
    "    if activation == \"Sigmoid\" :\n",
    "        return np.dot(diffSigmoid(output_layer),input_layer.T) , diffSigmoid(output_layer)\n",
    "    if activation == \"ReLU\" :\n",
    "        return np.dot(diffReLU(output_layer),input_layer.T) , diffReLU(output_layer)\n",
    "\n",
    "def Update(learn_rate,weight,bias,diff_weight,diff_bias):\n",
    "    return weight-learn_rate*diff_weight , bias-learn_rate*diff_bias\n",
    "    "
   ]
  },
  {
   "cell_type": "code",
   "execution_count": 3,
   "metadata": {},
   "outputs": [],
   "source": [
    "input_layer  = np.array([-2,0,7]).reshape(-1,1)\n",
    "label        = np.array([[0],[1]])\n",
    "output_layer = np.random.randn(label.size).reshape(-1,1)\n",
    "epochs       = 100\n",
    "learn_rate   = 0.1\n",
    "\n",
    "hidden_neural = 3\n",
    "\n",
    "loss_ = []\n",
    "\n",
    "hidden_layer_weight = np.random.randn(hidden_neural,len(input_layer))\n",
    "hidden_layer_bias   = np.random.randn(hidden_neural, 1)\n",
    "\n",
    "output_layer_weight = np.random.randn(len(output_layer), hidden_neural)\n",
    "output_layer_bias   = np.random.randn(len(output_layer), 1)\n",
    "\n",
    "for epoch in range(epochs):\n",
    "\n",
    "    hidden_layer = ForwardPropagation(hidden_layer_weight,hidden_layer_bias,input_layer,activation=\"Sigmoid\")\n",
    "    output_layer = ForwardPropagation(output_layer_weight,output_layer_bias,hidden_layer,activation=\"Sigmoid\")\n",
    "\n",
    "    loss         = MSE(label,output_layer)\n",
    "    diff_output_layer_loss = diffMSE(label,output_layer)\n",
    "\n",
    "    ##############################################################################################\n",
    "\n",
    "    diff_output_layer_weight,diff_output_layer_bias = BackPropagation(hidden_layer,output_layer,activation=\"Sigmoid\")\n",
    "    \n",
    "    diff_output_layer_weight  *= diff_output_layer_loss\n",
    "    diff_output_layer_bias    *= diff_output_layer_loss\n",
    "\n",
    "    ##############################################################################################\n",
    "    \n",
    "    diff_hidden_layer_weight,diff_hidden_layer_bias = BackPropagation(input_layer,hidden_layer,activation=\"Sigmoid\")    \n",
    "    diff_hidden_layer_loss     = np.dot(output_layer_weight.T,diff_output_layer_loss)\n",
    "\n",
    "    diff_hidden_layer_weight  *= diff_hidden_layer_loss\n",
    "    diff_hidden_layer_bias    *= diff_hidden_layer_loss \n",
    "    \n",
    "    ##############################################################################################\n",
    "\n",
    "    hidden_layer_weight,hidden_layer_bias = Update(learn_rate,hidden_layer_weight,hidden_layer_bias,diff_hidden_layer_weight,diff_hidden_layer_bias)\n",
    "    \n",
    "    output_layer_weight,output_layer_bias = Update(learn_rate,output_layer_weight,output_layer_bias,diff_output_layer_weight,diff_output_layer_bias)\n",
    "    \n",
    "    loss_.append(loss)\n",
    "    #if epoch % 1 == 0:\n",
    "    #    print(\"Epoch %d loss: %.3f\" % (epoch, loss))\n"
   ]
  },
  {
   "cell_type": "code",
   "execution_count": 4,
   "metadata": {},
   "outputs": [
    {
     "data": {
      "image/png": "[encoded data removed]",
      "text/plain": [
       "<Figure size 432x288 with 1 Axes>"
      ]
     },
     "metadata": {
      "needs_background": "light"
     },
     "output_type": "display_data"
    }
   ],
   "source": [
    "plt.plot(np.arange(1,epochs+1),loss_)\n",
    "plt.title('Neural Network Loss vs Epochs',fontsize=12)\n",
    "plt.xlabel('Epochs')\n",
    "plt.ylabel('Loss')\n",
    "plt.grid()\n",
    "plt.show()"
   ]
  },
  {
   "cell_type": "code",
   "execution_count": null,
   "metadata": {},
   "outputs": [],
   "source": []
  }
 ],
 "metadata": {
  "kernelspec": {
   "display_name": "Python 3",
   "language": "python",
   "name": "python3"
  },
  "language_info": {
   "codemirror_mode": {
    "name": "ipython",
    "version": 3
   },
   "file_extension": ".py",
   "mimetype": "text/x-python",
   "name": "python",
   "nbconvert_exporter": "python",
   "pygments_lexer": "ipython3",
   "version": "3.7.6"
  },
  "latex_envs": {
   "LaTeX_envs_menu_present": true,
   "autoclose": false,
   "autocomplete": true,
   "bibliofile": "biblio.bib",
   "cite_by": "apalike",
   "current_citInitial": 1,
   "eqLabelWithNumbers": true,
   "eqNumInitial": 1,
   "hotkeys": {
    "equation": "Ctrl-E",
    "itemize": "Ctrl-I"
   },
   "labels_anchors": false,
   "latex_user_defs": false,
   "report_style_numbering": false,
   "user_envs_cfg": false
  },
  "toc": {
   "base_numbering": 1,
   "nav_menu": {},
   "number_sections": true,
   "sideBar": true,
   "skip_h1_title": false,
   "title_cell": "Table of Contents",
   "title_sidebar": "Contents",
   "toc_cell": false,
   "toc_position": {},
   "toc_section_display": true,
   "toc_window_display": false
  }
 },
 "nbformat": 4,
 "nbformat_minor": 2
}
